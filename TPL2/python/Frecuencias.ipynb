{
 "cells": [
  {
   "cell_type": "markdown",
   "id": "ba336d32-4705-4a8f-911c-a80e874b9f26",
   "metadata": {},
   "source": [
    "# Vector de puntos\n",
    "\n",
    "Por si nos piden un análisis analítico del asunto voy a realizar un vector logarítmicamente espaciado que tenga los puntos 100Hz(corte), 1KHz(stop)"
   ]
  },
  {
   "cell_type": "code",
   "execution_count": 4,
   "id": "f98f0140-6a74-4fb9-9539-595769fa77f7",
   "metadata": {},
   "outputs": [
    {
     "name": "stdout",
     "output_type": "stream",
     "text": [
      "[   10.            14.38449888    20.69138081    29.76351442\n",
      "    42.81332399    61.58482111    88.58667904   127.42749857\n",
      "   183.29807108   263.66508987   379.26901907   545.55947812\n",
      "   784.75997035  1128.83789168  1623.77673919  2335.72146909\n",
      "  3359.81828628  4832.93023857  6951.92796178 10000.        ]\n"
     ]
    }
   ],
   "source": [
    "import numpy as np\n",
    "import pandas as pd\n",
    "\n",
    "base = 10 # Base\n",
    "N = 20 # Cantidad de elementos del vector\n",
    "Wc = 100\n",
    "Ws = 10000\n",
    "\n",
    "frec = np.geomspace(Wc/10, Ws,num = N )\n",
    "\n",
    "print(frec)\n",
    "\n",
    "df = pd.DataFrame(frec)\n",
    "df.to_excel(excel_writer = \"frecuencias2.xlsx\")"
   ]
  }
 ],
 "metadata": {
  "kernelspec": {
   "display_name": "Python 3 (ipykernel)",
   "language": "python",
   "name": "python3"
  },
  "language_info": {
   "codemirror_mode": {
    "name": "ipython",
    "version": 3
   },
   "file_extension": ".py",
   "mimetype": "text/x-python",
   "name": "python",
   "nbconvert_exporter": "python",
   "pygments_lexer": "ipython3",
   "version": "3.9.13"
  }
 },
 "nbformat": 4,
 "nbformat_minor": 5
}
