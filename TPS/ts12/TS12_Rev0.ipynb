{
 "cells": [
  {
   "cell_type": "markdown",
   "metadata": {
    "tags": []
   },
   "source": [
    "# Trabajo semanal 12\n",
    "\n",
    "## Síntesis de Cuadripolos\n",
    "\n",
    "\n",
    "1) Sintetizar un cuadripolo que cumpla con los siguientes parámetros:\n",
    "\n",
    "$$Y_{11} = \\frac{I1}{V1} \\bigg\\rvert_{V_2=0} = \\frac{3s.(s^2 + 7/3)}{ (s^2 + 2) (s^2 + 5) }$$\n",
    "\n",
    "$$Y_{21} = \\frac{I2}{V1} \\bigg\\rvert_{V_2=0} = \\frac{s.(s^2 + 1)}{ (s^2 + 2) (s^2 + 5) }$$\n",
    "\n",
    "a) Obtener la topología mediante la síntesis gráfica, es decir la red sin valores.\n",
    "b) Calcular el valor de los componentes, es decir la síntesis analítica.\n",
    "\n",
    "2) Dada la siguiente transferencia:\n",
    "\n",
    "$$T(s) = \\frac{V2}{V1} \\bigg\\rvert_{I_2=0} = \\frac{k.(s + 1)}{ (s + 2) (s + 4) }$$\n",
    "\n",
    "a) Obtener la topología circuital que respeta la transferencia solicitada, utilizando parámetros Z e Y.\n",
    "b) Calcular el valor de los componentes y el parámetro k.\n",
    "\n",
    "\n",
    "Algunas pistas:\n",
    "\n",
    "- Ojo con los componentes de cierre. Prestar atención a las condiciones de medición de las restricciones (parámetros, transferencias, etc)\n",
    "\n",
    "- Verificar la topología obtenida analizando las transferencias prescritas en sus puntos clave, es decir extremos de banda, ceros de transferencia, etc.\n",
    "\n"
   ]
  },
  {
   "cell_type": "markdown",
   "metadata": {},
   "source": [
    "# Resolución:"
   ]
  },
  {
   "cell_type": "code",
   "execution_count": 3,
   "metadata": {},
   "outputs": [
    {
     "data": {
      "text/html": [
       "\n",
       "        <iframe\n",
       "            width=\"1000\"\n",
       "            height=\"1000\"\n",
       "            src=\"pdf/1.pdf\"\n",
       "            frameborder=\"0\"\n",
       "            allowfullscreen\n",
       "            \n",
       "        ></iframe>\n",
       "        "
      ],
      "text/plain": [
       "<IPython.lib.display.IFrame at 0x1f85605feb0>"
      ]
     },
     "execution_count": 3,
     "metadata": {},
     "output_type": "execute_result"
    }
   ],
   "source": [
    "# 1\n",
    "from IPython.display import IFrame\n",
    "IFrame(\"pdf/1.pdf\", width=1000, height=1000)"
   ]
  },
  {
   "cell_type": "code",
   "execution_count": 7,
   "metadata": {},
   "outputs": [
    {
     "data": {
      "text/html": [
       "\n",
       "        <iframe\n",
       "            width=\"800\"\n",
       "            height=\"800\"\n",
       "            src=\"img/12_1_circuito.png\"\n",
       "            frameborder=\"0\"\n",
       "            allowfullscreen\n",
       "            \n",
       "        ></iframe>\n",
       "        "
      ],
      "text/plain": [
       "<IPython.lib.display.IFrame at 0x1f856081730>"
      ]
     },
     "execution_count": 7,
     "metadata": {},
     "output_type": "execute_result"
    }
   ],
   "source": [
    "# 1\n",
    "from IPython.display import IFrame\n",
    "IFrame(\"img/12_1_circuito.png\", width=800, height=800)"
   ]
  },
  {
   "cell_type": "code",
   "execution_count": 8,
   "metadata": {},
   "outputs": [
    {
     "data": {
      "text/html": [
       "\n",
       "        <iframe\n",
       "            width=\"800\"\n",
       "            height=\"800\"\n",
       "            src=\"img/12_1_circuito_AC.png\"\n",
       "            frameborder=\"0\"\n",
       "            allowfullscreen\n",
       "            \n",
       "        ></iframe>\n",
       "        "
      ],
      "text/plain": [
       "<IPython.lib.display.IFrame at 0x1f85650a8e0>"
      ]
     },
     "execution_count": 8,
     "metadata": {},
     "output_type": "execute_result"
    }
   ],
   "source": [
    "# 1\n",
    "from IPython.display import IFrame\n",
    "IFrame(\"img/12_1_circuito_AC.png\", width=800, height=800)"
   ]
  },
  {
   "cell_type": "code",
   "execution_count": 4,
   "metadata": {},
   "outputs": [
    {
     "data": {
      "text/html": [
       "\n",
       "        <iframe\n",
       "            width=\"1000\"\n",
       "            height=\"1000\"\n",
       "            src=\"pdf/2.pdf\"\n",
       "            frameborder=\"0\"\n",
       "            allowfullscreen\n",
       "            \n",
       "        ></iframe>\n",
       "        "
      ],
      "text/plain": [
       "<IPython.lib.display.IFrame at 0x1f85605fb20>"
      ]
     },
     "execution_count": 4,
     "metadata": {},
     "output_type": "execute_result"
    }
   ],
   "source": [
    "# 2\n",
    "\n",
    "from IPython.display import IFrame\n",
    "IFrame(\"pdf/2.pdf\", width=1000, height=1000)"
   ]
  },
  {
   "cell_type": "code",
   "execution_count": 9,
   "metadata": {},
   "outputs": [
    {
     "data": {
      "text/html": [
       "\n",
       "        <iframe\n",
       "            width=\"800\"\n",
       "            height=\"800\"\n",
       "            src=\"img/12_2_circuito.png\"\n",
       "            frameborder=\"0\"\n",
       "            allowfullscreen\n",
       "            \n",
       "        ></iframe>\n",
       "        "
      ],
      "text/plain": [
       "<IPython.lib.display.IFrame at 0x1f856167d30>"
      ]
     },
     "execution_count": 9,
     "metadata": {},
     "output_type": "execute_result"
    }
   ],
   "source": [
    "# 1\n",
    "from IPython.display import IFrame\n",
    "IFrame(\"img/12_2_circuito.png\", width=800, height=800)"
   ]
  },
  {
   "cell_type": "code",
   "execution_count": 10,
   "metadata": {},
   "outputs": [
    {
     "data": {
      "text/html": [
       "\n",
       "        <iframe\n",
       "            width=\"800\"\n",
       "            height=\"800\"\n",
       "            src=\"img/12_2_circuito_AC.png\"\n",
       "            frameborder=\"0\"\n",
       "            allowfullscreen\n",
       "            \n",
       "        ></iframe>\n",
       "        "
      ],
      "text/plain": [
       "<IPython.lib.display.IFrame at 0x1f856084c10>"
      ]
     },
     "execution_count": 10,
     "metadata": {},
     "output_type": "execute_result"
    }
   ],
   "source": [
    "# 1\n",
    "from IPython.display import IFrame\n",
    "IFrame(\"img/12_2_circuito_AC.png\", width=800, height=800)"
   ]
  }
 ],
 "metadata": {
  "kernelspec": {
   "display_name": "Python 3 (ipykernel)",
   "language": "python",
   "name": "python3"
  },
  "language_info": {
   "codemirror_mode": {
    "name": "ipython",
    "version": 3
   },
   "file_extension": ".py",
   "mimetype": "text/x-python",
   "name": "python",
   "nbconvert_exporter": "python",
   "pygments_lexer": "ipython3",
   "version": "3.9.13"
  }
 },
 "nbformat": 4,
 "nbformat_minor": 4
}
