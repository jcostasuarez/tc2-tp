{
 "cells": [
  {
   "cell_type": "markdown",
   "id": "d94a9962-f099-42bb-a894-503b75ed0307",
   "metadata": {},
   "source": [
    "# Trabajo semanal competitiva\n",
    "## Juan Costa Suárez\n",
    "### 27/09/2022\n"
   ]
  },
  {
   "cell_type": "code",
   "execution_count": 3,
   "id": "7af46532-57e7-4e7c-87ac-fb3adfad4901",
   "metadata": {
    "tags": []
   },
   "outputs": [
    {
     "data": {
      "text/html": [
       "\n",
       "        <iframe\n",
       "            width=\"500\"\n",
       "            height=\"1500\"\n",
       "            src=\"pdf/Trabajo_semanal_12.pdf\"\n",
       "            frameborder=\"0\"\n",
       "            allowfullscreen\n",
       "            \n",
       "        ></iframe>\n",
       "        "
      ],
      "text/plain": [
       "<IPython.lib.display.IFrame at 0x1cd39fb0520>"
      ]
     },
     "execution_count": 3,
     "metadata": {},
     "output_type": "execute_result"
    }
   ],
   "source": [
    "from IPython.display import IFrame\n",
    "IFrame(\"pdf/Trabajo_semanal_12.pdf\", width=500, height=1500)"
   ]
  },
  {
   "cell_type": "code",
   "execution_count": 2,
   "id": "64d0e8f9-dc54-495a-b692-132afe814807",
   "metadata": {},
   "outputs": [
    {
     "data": {
      "text/html": [
       "\n",
       "        <iframe\n",
       "            width=\"500\"\n",
       "            height=\"1500\"\n",
       "            src=\"pdf/Trabajo_semanal_12_Resolucion.pdf\"\n",
       "            frameborder=\"0\"\n",
       "            allowfullscreen\n",
       "            \n",
       "        ></iframe>\n",
       "        "
      ],
      "text/plain": [
       "<IPython.lib.display.IFrame at 0x1514b678520>"
      ]
     },
     "execution_count": 2,
     "metadata": {},
     "output_type": "execute_result"
    }
   ],
   "source": [
    "from IPython.display import IFrame\n",
    "IFrame(\"pdf/Trabajo_semanal_12_Resolucion.pdf\", width=500, height=1500)"
   ]
  },
  {
   "cell_type": "markdown",
   "id": "979a3286-7530-4a87-af2c-36f904f65e29",
   "metadata": {
    "tags": []
   },
   "source": [
    "# Simulación\n",
    "\n",
    "Para corroborar el comportamiento del circuito se utilizó ltpice. \n",
    "\n",
    "## Circuito\n",
    "\n",
    "![circuito](img/circuito.png)\n",
    "\n",
    "Se simuló el comportamiento del VNIC con un opamp, como se vió en la teoría.\n",
    "\n",
    "## Respuesta en Frecuencia\n",
    "\n",
    "![respuesta en frecuencia](img/circuito_respuesta_frecuencia.png)\n",
    "\n",
    "En este gráfico se puede observar el comportamiento pasabajo, el cual tiene una  caída de 60dB por década por lo cual es un pasabajos de órden 3. Además este tiene una frecuencia de corte de aproximadamente 1rad/s que es lo mismo a lo que planteamos en la teoría.\n",
    "\n",
    "Adjunto imagen en el siguiente elemento para mejor resolución."
   ]
  },
  {
   "cell_type": "code",
   "execution_count": 19,
   "id": "d70f1522-e811-4ba7-b15c-c62c8068f78e",
   "metadata": {},
   "outputs": [
    {
     "data": {
      "text/html": [
       "\n",
       "        <iframe\n",
       "            width=\"1000\"\n",
       "            height=\"1000\"\n",
       "            src=\"img/circuito_respuesta_frecuencia.png\"\n",
       "            frameborder=\"0\"\n",
       "            allowfullscreen\n",
       "            \n",
       "        ></iframe>\n",
       "        "
      ],
      "text/plain": [
       "<IPython.lib.display.IFrame at 0x15151b7ec10>"
      ]
     },
     "execution_count": 19,
     "metadata": {},
     "output_type": "execute_result"
    }
   ],
   "source": [
    "from IPython.display import IFrame\n",
    "IFrame(\"img/circuito_respuesta_frecuencia.png\", width=1000, height=1000)"
   ]
  },
  {
   "cell_type": "markdown",
   "id": "fd816376-4674-4c66-bb95-dffd581d0ef2",
   "metadata": {},
   "source": [
    "# Conclusión\n",
    "\n",
    "Encontramos un circuito en la cual la transpimpedancia se asemeja a la de un filtor Butter de 3 órden pero tiene un sobrepico en las cercanías de la frecuencia de corte."
   ]
  }
 ],
 "metadata": {
  "kernelspec": {
   "display_name": "Python 3 (ipykernel)",
   "language": "python",
   "name": "python3"
  },
  "language_info": {
   "codemirror_mode": {
    "name": "ipython",
    "version": 3
   },
   "file_extension": ".py",
   "mimetype": "text/x-python",
   "name": "python",
   "nbconvert_exporter": "python",
   "pygments_lexer": "ipython3",
   "version": "3.9.13"
  }
 },
 "nbformat": 4,
 "nbformat_minor": 5
}
