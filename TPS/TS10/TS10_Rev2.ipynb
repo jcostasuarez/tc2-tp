{
 "cells": [
  {
   "cell_type": "markdown",
   "id": "029ae4a0-0092-4530-b430-35d9b27c8ac0",
   "metadata": {},
   "source": [
    "# Trabajo semanal 10\n",
    "\n",
    "## Síntesis de funciones de excitación\n",
    "\n",
    "### Juan Costa Suárez\n",
    "### 1) Entrega 19/9\n",
    "### 2) Entrega 26/9"
   ]
  },
  {
   "cell_type": "code",
   "execution_count": 1,
   "id": "47925503-6e20-49ad-a9ee-e35e10a23a24",
   "metadata": {},
   "outputs": [
    {
     "data": {
      "text/html": [
       "\n",
       "        <iframe\n",
       "            width=\"500\"\n",
       "            height=\"1500\"\n",
       "            src=\"pdf/Trabajo_semanal_10.pdf\"\n",
       "            frameborder=\"0\"\n",
       "            allowfullscreen\n",
       "            \n",
       "        ></iframe>\n",
       "        "
      ],
      "text/plain": [
       "<IPython.lib.display.IFrame at 0x7f70233b5700>"
      ]
     },
     "execution_count": 1,
     "metadata": {},
     "output_type": "execute_result"
    }
   ],
   "source": [
    "from IPython.display import IFrame\n",
    "IFrame(\"pdf/Trabajo_semanal_10.pdf\", width=500, height=1500)"
   ]
  },
  {
   "cell_type": "code",
   "execution_count": 2,
   "id": "ac85c60f-be2d-4d2c-ba31-5ef462ef185f",
   "metadata": {},
   "outputs": [
    {
     "data": {
      "text/html": [
       "\n",
       "        <iframe\n",
       "            width=\"500\"\n",
       "            height=\"1500\"\n",
       "            src=\"pdf/TS10_Resolucion.pdf\"\n",
       "            frameborder=\"0\"\n",
       "            allowfullscreen\n",
       "            \n",
       "        ></iframe>\n",
       "        "
      ],
      "text/plain": [
       "<IPython.lib.display.IFrame at 0x7f7023392fd0>"
      ]
     },
     "execution_count": 2,
     "metadata": {},
     "output_type": "execute_result"
    }
   ],
   "source": [
    "from IPython.display import IFrame\n",
    "IFrame(\"pdf/TS10_Resolucion.pdf\", width=500, height=1500)"
   ]
  },
  {
   "cell_type": "code",
   "execution_count": null,
   "id": "75a86012-b50a-4d26-9745-c131d3cf3de5",
   "metadata": {},
   "outputs": [],
   "source": []
  }
 ],
 "metadata": {
  "kernelspec": {
   "display_name": "Python 3 (ipykernel)",
   "language": "python",
   "name": "python3"
  },
  "language_info": {
   "codemirror_mode": {
    "name": "ipython",
    "version": 3
   },
   "file_extension": ".py",
   "mimetype": "text/x-python",
   "name": "python",
   "nbconvert_exporter": "python",
   "pygments_lexer": "ipython3",
   "version": "3.9.13"
  }
 },
 "nbformat": 4,
 "nbformat_minor": 5
}
