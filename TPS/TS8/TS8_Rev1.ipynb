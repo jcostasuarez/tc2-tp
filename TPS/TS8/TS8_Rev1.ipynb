{
 "cells": [
  {
   "cell_type": "markdown",
   "metadata": {},
   "source": [
    "# Trabajo semanal 8\n",
    "## MAI - Filtros digitales\n",
    "***Juan Costa Suárez***\n",
    "\n",
    "---\n",
    "\n",
    "![imagen](img/circuito.jpg)\n",
    "\n",
    "\n",
    "### Enunciado:\n",
    "1) Obtener la transferencia de tensión fracción V subíndice o entre V subíndice i por método de cuadripolos (se sugiere referirse a alguno de los métodos de interconexión ya vistos). Ayuda: si C subíndice 2 igual fracción 4 entre 3 (se utilizó 1.333 para la simulación), los polos de la transferencia están ubicados sobre una circunferencia de radio unitario.\n",
    "\n",
    "2) Valide la transferencia con simulación circuital.\n",
    "\n",
    "3) Construya la matriz de admitancia indefinida (MAI) del circuito\n",
    "\n",
    "4) Compute la transferencia de tensión con la MAI\n",
    "\n",
    "\n"
   ]
  },
  {
   "cell_type": "code",
   "execution_count": 1,
   "metadata": {},
   "outputs": [
    {
     "data": {
      "text/html": [
       "\n",
       "        <iframe\n",
       "            width=\"600\"\n",
       "            height=\"300\"\n",
       "            src=\"img/circuito.jpg\"\n",
       "            frameborder=\"0\"\n",
       "            allowfullscreen\n",
       "            \n",
       "        ></iframe>\n",
       "        "
      ],
      "text/plain": [
       "<IPython.lib.display.IFrame at 0x12a302c3040>"
      ]
     },
     "execution_count": 1,
     "metadata": {},
     "output_type": "execute_result"
    }
   ],
   "source": [
    "from IPython.display import IFrame\n",
    "IFrame(\"img/circuito.jpg\", width=600, height=300)"
   ]
  },
  {
   "cell_type": "markdown",
   "metadata": {},
   "source": [
    "# Resolución de punto 1 y 2:"
   ]
  },
  {
   "cell_type": "code",
   "execution_count": 2,
   "metadata": {},
   "outputs": [
    {
     "data": {
      "text/html": [
       "\n",
       "        <iframe\n",
       "            width=\"600\"\n",
       "            height=\"800\"\n",
       "            src=\"pdf/Análisis_Cuadripolos.pdf\"\n",
       "            frameborder=\"0\"\n",
       "            allowfullscreen\n",
       "            \n",
       "        ></iframe>\n",
       "        "
      ],
      "text/plain": [
       "<IPython.lib.display.IFrame at 0x12a302c3430>"
      ]
     },
     "execution_count": 2,
     "metadata": {},
     "output_type": "execute_result"
    }
   ],
   "source": [
    "from IPython.display import IFrame\n",
    "IFrame(\"pdf/Análisis_Cuadripolos.pdf\", width=600, height=800)"
   ]
  },
  {
   "cell_type": "code",
   "execution_count": null,
   "metadata": {},
   "outputs": [],
   "source": [
    "# módulos genericos\n",
    "import numpy as np\n",
    "from scipy import signal as sig\n",
    "from splane import analyze_sys, pretty_print_bicuad_omegayq\n"
   ]
  },
  {
   "cell_type": "code",
   "execution_count": null,
   "metadata": {},
   "outputs": [],
   "source": [
    "### SIMULACIÓN NUMÉRCIA###\n",
    "\n",
    "num = np.array(1) \n",
    "den = np.array([1,2,2,1])\n",
    "    \n",
    "mi_sos = sig.TransferFunction(num,den)\n",
    "analyze_sys(mi_sos)"
   ]
  },
  {
   "cell_type": "markdown",
   "metadata": {},
   "source": [
    "# Simulación en LTSpice\n",
    "\n",
    "Con esto podemos observar que cumplimos con la condición de tener los polos sobre la circunferencia de radio 1. Ahora vamos a realizar la simulación de LTSpice para corroborar los resultados.\n",
    "\n",
    "---\n",
    "\n",
    "![imagen](img/circuito_Spice.jpg)\n",
    "\n",
    "![imagen](img/circuito_Spice_Simulación.jpg)\n",
    "\n",
    "---\n",
    "\n",
    "## Conclusiónes de la simulación:\n",
    "Esta respuesta en frecuencia nos advierte que tenemos una transferencia de ganancia unitaria, que tenemos una pendiente de 60dB por década y que tenemos 3dB de caída en la frecuencia de corte. Por lo que podemos intuir que la transferencia es de un filtro Butterworth de orden 3. Con lo cual la transferencia que hallamos es correcta.\n"
   ]
  },
  {
   "cell_type": "code",
   "execution_count": null,
   "metadata": {},
   "outputs": [],
   "source": [
    "from IPython.display import IFrame\n",
    "IFrame(\"img/circuito_Spice.jpg\", width=800, height=400)"
   ]
  },
  {
   "cell_type": "code",
   "execution_count": null,
   "metadata": {},
   "outputs": [],
   "source": [
    "IFrame(\"img/circuito_Spice_Simulación.jpg\", width=1200, height=800)\n"
   ]
  },
  {
   "cell_type": "markdown",
   "metadata": {},
   "source": [
    "# MAI"
   ]
  },
  {
   "cell_type": "code",
   "execution_count": null,
   "metadata": {},
   "outputs": [],
   "source": [
    "from IPython.display import IFrame\n",
    "IFrame(\"pdf/Análisis_Matricial.pdf\", width=600, height=800)"
   ]
  },
  {
   "cell_type": "markdown",
   "metadata": {},
   "source": [
    "# Resuelvo el resto en código:"
   ]
  },
  {
   "cell_type": "code",
   "execution_count": null,
   "metadata": {},
   "outputs": [],
   "source": [
    "from sympy import symbols, cancel, pprint, latex\n",
    "from sympy import MatrixSymbol, Matrix\n",
    "\n",
    "from sympy.solvers.solveset import linsolve\n",
    "from sympy.physics.control.lti import TransferFunction\n",
    "from sympy.physics.control.control_plots import pole_zero_plot, bode_plot\n",
    "\n",
    "s,ya,yb,yc,yo = symbols('s ya yb yc yo')\n",
    "\n",
    "y_sum = ya + yb + yc\n",
    "\n",
    "y11 = ya - ya**2/y_sum\n",
    "\n",
    "Y1 =  Matrix([[ya,0,0], [0,yc+yo,-yo],[0,-yo,yo+yb]])\n",
    "Y2 =  Matrix([[ya**2,ya*yc,ya*yb], [yc*ya,yc**2,yc*yb],[yb*ya,yb*yc,yb**2]]) /(ya+yb+yc)\n",
    "\n",
    "MAI = Y1 - Y2\n",
    "\n",
    "MAI= MAI.subs({ya:2/(3*s), yb: s*4/3, yc:2/s, yo:1})\n",
    "\n",
    "pprint(cancel(MAI))\n",
    "\n"
   ]
  },
  {
   "cell_type": "code",
   "execution_count": null,
   "metadata": {},
   "outputs": [],
   "source": [
    "H=-MAI[1,0]/MAI[1,1]\n",
    "\n",
    "H = cancel(H)\n",
    "\n",
    "pprint(H)\n",
    "\n",
    "Transf = TransferFunction.from_rational_expression(H,var =s)\n",
    "\n",
    "print()\n",
    "print()\n",
    "print(\"Transference(H(s)): \")\n",
    "pprint(Transf) # I\n",
    "\n",
    "print()\n",
    "print()\n",
    "pole_zero_plot(Transf)\n",
    "\n",
    "print()\n",
    "print()\n",
    "bode_plot(Transf)  \n"
   ]
  }
 ],
 "metadata": {
  "kernelspec": {
   "display_name": "Python 3 (ipykernel)",
   "language": "python",
   "name": "python3"
  },
  "language_info": {
   "codemirror_mode": {
    "name": "ipython",
    "version": 3
   },
   "file_extension": ".py",
   "mimetype": "text/x-python",
   "name": "python",
   "nbconvert_exporter": "python",
   "pygments_lexer": "ipython3",
   "version": "3.9.7"
  }
 },
 "nbformat": 4,
 "nbformat_minor": 4
}
