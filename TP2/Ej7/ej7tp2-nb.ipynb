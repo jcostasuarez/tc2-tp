{
 "cells": [
  {
   "cell_type": "code",
   "execution_count": 71,
   "id": "97a664bc",
   "metadata": {},
   "outputs": [
    {
     "data": {
      "text/html": [
       "\n",
       "        <iframe\n",
       "            width=\"1000\"\n",
       "            height=\"500\"\n",
       "            src=\"./pdf/ej7tp2.pdf\"\n",
       "            frameborder=\"0\"\n",
       "            allowfullscreen\n",
       "            \n",
       "        ></iframe>\n",
       "        "
      ],
      "text/plain": [
       "<IPython.lib.display.IFrame at 0x28622b47790>"
      ]
     },
     "execution_count": 71,
     "metadata": {},
     "output_type": "execute_result"
    }
   ],
   "source": [
    "from IPython.display import IFrame\n",
    "IFrame(\"./pdf/ej7tp2.pdf\", width=1000, height=500)"
   ]
  },
  {
   "cell_type": "markdown",
   "id": "89893969",
   "metadata": {},
   "source": [
    "### B)\n",
    "Graficar el diagrama de polos y ceros"
   ]
  },
  {
   "cell_type": "code",
   "execution_count": 9,
   "id": "39d4b325",
   "metadata": {},
   "outputs": [
    {
     "name": "stdout",
     "output_type": "stream",
     "text": [
      "La transferencia normalizada del filtro es:\n"
     ]
    },
    {
     "data": {
      "text/latex": [
       "$\\displaystyle \\frac{0.0218722526620331 s^{3}}{\\left(s^{2} + 0.181336863004633 s + 0.675684\\right) \\left(s^{2} + 0.268034414295169 s + 1.476225\\right) \\left(s^{2} + 0.450004500045 s + 1\\right)}$"
      ],
      "text/plain": [
       "0.0218722526620331*s**3/((s**2 + 0.181336863004633*s + 0.675684)*(s**2 + 0.268034414295169*s + 1.476225)*(s**2 + 0.450004500045*s + 1))"
      ]
     },
     "metadata": {},
     "output_type": "display_data"
    }
   ],
   "source": [
    "import sympy as sp\n",
    "from sympy.abc import symbols\n",
    "\n",
    "s, q, k, w0 = symbols('s q k w0')\n",
    "\n",
    "sos1 = k*s*w0/q/(s**2+s*w0/q+w0**2)\n",
    "sos1 = sos1.subs(k, 1)\n",
    "sos1 = sos1.subs(w0, 1) # 2KHz * 2pi\n",
    "sos1 = sos1.subs(q, 2.2222)\n",
    "\n",
    "sos2 = k*s*w0/q/(s**2+s*w0/q+w0**2)\n",
    "sos2 = sos2.subs(k, 1)\n",
    "sos2 = sos2.subs(w0, 1.215)\n",
    "sos2 = sos2.subs(q, 4.533)\n",
    "\n",
    "sos3 = k*s*w0/q/(s**2+s*w0/q+w0**2)\n",
    "sos3 = sos3.subs(k, 1)\n",
    "sos3 = sos3.subs(w0, 0.822)\n",
    "sos3 = sos3.subs(q, 4.533)\n",
    "\n",
    "print(\"La transferencia normalizada del filtro es:\")\n",
    "\n",
    "filtro = sos1*sos2*sos3\n",
    "display(filtro)"
   ]
  },
  {
   "cell_type": "markdown",
   "id": "18048f8f",
   "metadata": {},
   "source": [
    "Luego con esta transferencia busco los polos y ceros:"
   ]
  },
  {
   "cell_type": "code",
   "execution_count": 67,
   "id": "4bb9f56d",
   "metadata": {},
   "outputs": [
    {
     "data": {
      "image/png": "[encoded data removed]",
      "text/plain": [
       "<Figure size 432x288 with 1 Axes>"
      ]
     },
     "metadata": {
      "needs_background": "light"
     },
     "output_type": "display_data"
    }
   ],
   "source": [
    "from sympy.physics.control.lti import TransferFunction\n",
    "from sympy.physics.control.control_plots import pole_zero_numerical_data\n",
    "import matplotlib.pyplot as plt\n",
    "\n",
    "top = 0.0218722526620331 * s**3\n",
    "bot = (s**2 + 0.181 * s + 0.675)*(s**2 + 0.268 * s + 1.476) * (s**2 + 0.450 * s + 1)\n",
    "\n",
    "tf = TransferFunction(top, bot, s)\n",
    "data = pole_zero_numerical_data(tf)\n",
    "\n",
    "\n",
    "circle1 = plt.Circle((0, 0), 1, color='r',fill=False)\n",
    "plt.title(\"Polos y ceros en el plano S\")\n",
    "plt.scatter(data[1].real,data[1].imag, marker = 'x')# Polos\n",
    "plt.scatter(data[0].real,data[0].imag, marker = 'o')# Ceros\n",
    "plt.xlim([-1.3, 1.3])\n",
    "plt.ylim([-1.3, 1.3])\n",
    "plt.grid()\n",
    "\n",
    "fig = plt.gcf()\n",
    "ax = fig.gca()\n",
    "ax.add_patch(circle1)\n",
    "\n",
    "plt.show\n",
    "fig.savefig('zero_poles.png')\n",
    "\n"
   ]
  },
  {
   "cell_type": "markdown",
   "id": "5cfd3996",
   "metadata": {},
   "source": [
    "## C)\n",
    "Graficar la transferencia (módulo y fase) del filtro pedido"
   ]
  },
  {
   "cell_type": "code",
   "execution_count": 77,
   "id": "3bacec4c",
   "metadata": {},
   "outputs": [
    {
     "name": "stdout",
     "output_type": "stream",
     "text": [
      "La transferencia del filtro es:\n"
     ]
    },
    {
     "data": {
      "text/latex": [
       "$\\displaystyle \\frac{180600924252.326 s^{3}}{\\left(s^{2} + 2278.67902051621 s + 106693446.879504\\right) \\left(s^{2} + 3368.12045003309 s + 233102357.9361\\right) \\left(s^{2} + 5654.75654756548 s + 157904356\\right)}$"
      ],
      "text/plain": [
       "180600924252.326*s**3/((s**2 + 2278.67902051621*s + 106693446.879504)*(s**2 + 3368.12045003309*s + 233102357.9361)*(s**2 + 5654.75654756548*s + 157904356))"
      ]
     },
     "metadata": {},
     "output_type": "display_data"
    }
   ],
   "source": [
    "from sympy.plotting import plot\n",
    "from sympy.abc import symbols\n",
    "import sympy as sp\n",
    "\n",
    "s, q, k, w0 = symbols('s q k w0')\n",
    "\n",
    "sos1 = k*s*w0/q/(s**2+s*w0/q+w0**2)\n",
    "sos1 = sos1.subs(k, 1)\n",
    "sos1 = sos1.subs(w0, 12566) # 2KHz * 2pi\n",
    "sos1 = sos1.subs(q, 2.2222)\n",
    "\n",
    "sos2 = k*s*w0/q/(s**2+s*w0/q+w0**2)\n",
    "sos2 = sos2.subs(k, 1.680)\n",
    "sos2 = sos2.subs(w0, 1.215*12566)\n",
    "sos2 = sos2.subs(q, 4.533)\n",
    "\n",
    "sos3 = k*s*w0/q/(s**2+s*w0/q+w0**2)\n",
    "sos3 = sos3.subs(k, 2.477)\n",
    "sos3 = sos3.subs(w0, 0.822*12566)\n",
    "sos3 = sos3.subs(q, 4.533)\n",
    "\n",
    "print(\"La transferencia del filtro es:\")\n",
    "\n",
    "filtro = sos1*sos2*sos3\n",
    "display(filtro)"
   ]
  },
  {
   "cell_type": "code",
   "execution_count": 64,
   "id": "0d4d7e5a",
   "metadata": {
    "scrolled": true
   },
   "outputs": [
    {
     "data": {
      "image/png": "[encoded data removed]",
      "text/plain": [
       "<Figure size 432x288 with 1 Axes>"
      ]
     },
     "metadata": {
      "needs_background": "light"
     },
     "output_type": "display_data"
    }
   ],
   "source": [
    "import matplotlib.pyplot as plt\n",
    "import numpy as np\n",
    "from sympy.physics.control.lti import TransferFunction\n",
    "from sympy.physics.control.control_plots import pole_zero_plot, bode_plot, bode_magnitude_numerical_data\n",
    "import math\n",
    "\n",
    "\n",
    "top = 180629641407.475* s**3\n",
    "bot = (s**2+2278.79979086698*s+106704756.718539)*(s**2+3368.29896095301*s+233127067.515031)*(s**2+5655.05625056251*s+157921094.355556)\n",
    "\n",
    "tf = TransferFunction(top, bot, s) \n",
    "x,y=bode_magnitude_numerical_data(tf, initial_exp =3 , final_exp = 5)   \n",
    "\n",
    "y = np.asarray(y)\n",
    "x = np.asarray(x)/(2*math.pi)\n",
    "\n",
    "plt.semilogx(x,y)\n",
    "plt.grid()\n",
    "plt.title('Transferencia del filtro:')\n",
    "plt.ylabel('Transferencia[dB]')\n",
    "plt.xlabel('Frecuencia[Hz]')\n",
    "\n",
    "plt.annotate('2KHz', xy=(2000, 0))\n",
    "\n",
    "plt.show()\n",
    "\n",
    "\n",
    "fig.savefig('TransferFunction.png')"
   ]
  },
  {
   "cell_type": "markdown",
   "id": "a3f86856",
   "metadata": {},
   "source": [
    "# Circuitos y simulaciónes:\n"
   ]
  },
  {
   "cell_type": "code",
   "execution_count": 78,
   "id": "a7b96234",
   "metadata": {},
   "outputs": [
    {
     "data": {
      "text/html": [
       "\n",
       "        <iframe\n",
       "            width=\"1000\"\n",
       "            height=\"500\"\n",
       "            src=\"./img/Circuitos.png\"\n",
       "            frameborder=\"0\"\n",
       "            allowfullscreen\n",
       "            \n",
       "        ></iframe>\n",
       "        "
      ],
      "text/plain": [
       "<IPython.lib.display.IFrame at 0x286232156d0>"
      ]
     },
     "execution_count": 78,
     "metadata": {},
     "output_type": "execute_result"
    }
   ],
   "source": [
    "from IPython.display import IFrame\n",
    "IFrame(\"./img/Circuitos.png\", width=1000, height=500)"
   ]
  },
  {
   "cell_type": "code",
   "execution_count": 82,
   "id": "47be8ebd",
   "metadata": {},
   "outputs": [
    {
     "data": {
      "text/html": [
       "\n",
       "        <iframe\n",
       "            width=\"1000\"\n",
       "            height=\"500\"\n",
       "            src=\"./img/ej7tp2_cortes.png\"\n",
       "            frameborder=\"0\"\n",
       "            allowfullscreen\n",
       "            \n",
       "        ></iframe>\n",
       "        "
      ],
      "text/plain": [
       "<IPython.lib.display.IFrame at 0x28623215550>"
      ]
     },
     "execution_count": 82,
     "metadata": {},
     "output_type": "execute_result"
    }
   ],
   "source": [
    "from IPython.display import IFrame\n",
    "IFrame(\"./img/ej7tp2_cortes.png\", width=1000, height=500)"
   ]
  },
  {
   "cell_type": "code",
   "execution_count": 79,
   "id": "006ce63e",
   "metadata": {},
   "outputs": [
    {
     "data": {
      "text/html": [
       "\n",
       "        <iframe\n",
       "            width=\"1000\"\n",
       "            height=\"500\"\n",
       "            src=\"./img/ej7tp2_stop.png\"\n",
       "            frameborder=\"0\"\n",
       "            allowfullscreen\n",
       "            \n",
       "        ></iframe>\n",
       "        "
      ],
      "text/plain": [
       "<IPython.lib.display.IFrame at 0x28622b47f40>"
      ]
     },
     "execution_count": 79,
     "metadata": {},
     "output_type": "execute_result"
    }
   ],
   "source": [
    "from IPython.display import IFrame\n",
    "IFrame(\"./img/ej7tp2_stop.png\", width=1000, height=500)"
   ]
  }
 ],
 "metadata": {
  "kernelspec": {
   "display_name": "Python 3 (ipykernel)",
   "language": "python",
   "name": "python3"
  },
  "language_info": {
   "codemirror_mode": {
    "name": "ipython",
    "version": 3
   },
   "file_extension": ".py",
   "mimetype": "text/x-python",
   "name": "python",
   "nbconvert_exporter": "python",
   "pygments_lexer": "ipython3",
   "version": "3.9.7"
  }
 },
 "nbformat": 4,
 "nbformat_minor": 5
}
