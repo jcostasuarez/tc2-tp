{
 "cells": [
  {
   "cell_type": "code",
   "execution_count": 36,
   "id": "734c1984",
   "metadata": {},
   "outputs": [
    {
     "data": {
      "text/latex": [
       "$\\displaystyle 4.93827160493728 x^{4} + 2.222222222222 x^{3} + 10.8765432098746 x^{2} + 2.222222222222 x + 4.93827160493728$"
      ],
      "text/plain": [
       "4.93827160493728*x**4 + 2.222222222222*x**3 + 10.8765432098746*x**2 + 2.222222222222*x + 4.93827160493728"
      ]
     },
     "metadata": {},
     "output_type": "display_data"
    },
    {
     "data": {
      "text/plain": [
       "[-0.134144041325246 - 1.20766416986651*I,\n",
       " -0.134144041325246 + 1.20766416986651*I,\n",
       " -0.0908559586747537 - 0.817952738164018*I,\n",
       " -0.0908559586747537 + 0.817952738164018*I]"
      ]
     },
     "metadata": {},
     "output_type": "display_data"
    },
    {
     "data": {
      "text/latex": [
       "$\\displaystyle s^{2} + 0.268288082650493 s + 1.47644737100244$"
      ],
      "text/plain": [
       "s**2 + 0.268288082650493*s + 1.47644737100244"
      ]
     },
     "metadata": {},
     "output_type": "display_data"
    },
    {
     "data": {
      "text/latex": [
       "$\\displaystyle s^{2} + 0.181711917349507 s + 0.677301487096724$"
      ],
      "text/plain": [
       "s**2 + 0.181711917349507*s + 0.677301487096724"
      ]
     },
     "metadata": {},
     "output_type": "display_data"
    },
    {
     "data": {
      "text/latex": [
       "$\\displaystyle s^{4} + 0.45 s^{3} + 2.20249999999961 s^{2} + 0.45 s + 1.0$"
      ],
      "text/plain": [
       "s**4 + 0.45*s**3 + 2.20249999999961*s**2 + 0.45*s + 1.0"
      ]
     },
     "metadata": {},
     "output_type": "display_data"
    }
   ],
   "source": [
    "import sympy\n",
    "from sympy import expand, symbols, factor, solve\n",
    "  \n",
    "x ,a ,q = symbols('x a q')\n",
    "exp = x**4 * q**2 + (a*q) * x**3 + ((1+2*q**2)) * x**2 + (a*q) * x + q**2\n",
    "exp = exp.subs(a,1)\n",
    "exp = exp.subs(q,2.222222222222)\n",
    "display(expand(exp))\n",
    "\n",
    "r = solve(exp, x)\n",
    "display(r)\n",
    "display(expand((s - r[0])*(s - r[1])))\n",
    "display(expand((s - r[2])*(s - r[3])))\n",
    "\n",
    "display(expand((s - r[0])*(s - r[1])*(s - r[2])*(s - r[3])))\n",
    "\n"
   ]
  }
 ],
 "metadata": {
  "kernelspec": {
   "display_name": "Python 3 (ipykernel)",
   "language": "python",
   "name": "python3"
  },
  "language_info": {
   "codemirror_mode": {
    "name": "ipython",
    "version": 3
   },
   "file_extension": ".py",
   "mimetype": "text/x-python",
   "name": "python",
   "nbconvert_exporter": "python",
   "pygments_lexer": "ipython3",
   "version": "3.9.7"
  }
 },
 "nbformat": 4,
 "nbformat_minor": 5
}
